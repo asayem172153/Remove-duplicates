{
  "nbformat": 4,
  "nbformat_minor": 0,
  "metadata": {
    "colab": {
      "provenance": []
    },
    "kernelspec": {
      "name": "python3",
      "display_name": "Python 3"
    },
    "language_info": {
      "name": "python"
    }
  },
  "cells": [
    {
      "cell_type": "code",
      "execution_count": 1,
      "metadata": {
        "id": "ENiLfxkGrYrN",
        "colab": {
          "base_uri": "https://localhost:8080/"
        },
        "outputId": "03050317-2406-4332-d2c4-9a66e07971a2"
      },
      "outputs": [
        {
          "output_type": "stream",
          "name": "stdout",
          "text": [
            "[1, 2, 3, 4, 5, 6]\n"
          ]
        }
      ],
      "source": [
        "lst = [1, 2, 3, 4, 2, 3, 5, 6, 1]\n",
        "\n",
        "new_list = []\n",
        "\n",
        "for i in lst:\n",
        "  if i not in new_list:\n",
        "    new_list.append(i)\n",
        "\n",
        "print(new_list)"
      ]
    },
    {
      "cell_type": "markdown",
      "source": [
        "**Another approach using *set()***"
      ],
      "metadata": {
        "id": "PxcDPW1clFon"
      }
    },
    {
      "cell_type": "code",
      "source": [
        "lst = [1, 2, 3, 4, 2, 3, 5, 6, 1]\n",
        "\n",
        "new_lst = list(set(lst))\n",
        "\n",
        "print(new_lst)\n"
      ],
      "metadata": {
        "colab": {
          "base_uri": "https://localhost:8080/"
        },
        "id": "FoGV17vllafH",
        "outputId": "f09fcbb6-c76e-4caf-9531-e3065b4188bd"
      },
      "execution_count": 2,
      "outputs": [
        {
          "output_type": "stream",
          "name": "stdout",
          "text": [
            "[1, 2, 3, 4, 5, 6]\n"
          ]
        }
      ]
    }
  ]
}